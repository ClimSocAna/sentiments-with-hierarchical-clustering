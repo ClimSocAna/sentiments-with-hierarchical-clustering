{
 "cells": [
  {
   "cell_type": "markdown",
   "metadata": {},
   "source": [
    "### import modules"
   ]
  },
  {
   "cell_type": "code",
   "execution_count": null,
   "metadata": {},
   "outputs": [],
   "source": [
    "import os\n",
    "\n",
    "import pandas as pd\n",
    "import plotly.graph_objects as go\n",
    "import plotly.colors\n",
    "from plotly.subplots import make_subplots\n",
    "from typing import Optional\n",
    "\n",
    "from load_tree import Tree"
   ]
  },
  {
   "cell_type": "markdown",
   "metadata": {},
   "source": [
    "### load the tree"
   ]
  },
  {
   "cell_type": "code",
   "execution_count": null,
   "metadata": {},
   "outputs": [],
   "source": [
    "load_path = os.path.join(\"gbert_large_paraphrase_cosine.jsonl\")\n",
    "\n",
    "tree = Tree.build_tree_from_path(load_path)"
   ]
  },
  {
   "cell_type": "markdown",
   "metadata": {},
   "source": [
    "### build dataframe from tree for visualization"
   ]
  },
  {
   "cell_type": "markdown",
   "metadata": {},
   "source": [
    "#### setup"
   ]
  },
  {
   "cell_type": "code",
   "execution_count": null,
   "metadata": {},
   "outputs": [],
   "source": [
    "def build_hierarchical_dataframe(\n",
    "    tree: Tree, tree_level: int = -1, root_index: Optional[int] = None\n",
    "):\n",
    "    \"\"\"Build a dataframe from the imported tree to input to the plotly Treemap method.\n",
    "\n",
    "    Args:\n",
    "        tree: The clustering tree.\n",
    "        tree_level: The level of the clustering tree which is considered the top level for the visualization.\n",
    "        root_index: Specifies a specific cluster for the given tree_level for which the visualization is realized.\n",
    "    \"\"\"\n",
    "    columns = [\"id\", \"parent\", \"label\", \"description\", \"keywords\", \"value\", \"color\"]\n",
    "    df_all_trees = pd.DataFrame(columns=columns)\n",
    "\n",
    "    def add_nodes(node, parent_name: str = \"\"):\n",
    "        if node.children:\n",
    "            for child in node.children.values():\n",
    "                add_nodes(child, node.name)\n",
    "\n",
    "        df_all_trees.loc[len(df_all_trees)] = [\n",
    "            node.name,\n",
    "            parent_name,\n",
    "            node.label,\n",
    "            node.description,\n",
    "            node.keywords,\n",
    "            node.weight(),\n",
    "            node.sentiment_score(),\n",
    "        ]\n",
    "\n",
    "    if root_index is not None:\n",
    "        root_node = tree.levels[tree_level][root_index]\n",
    "        add_nodes(root_node)\n",
    "    else:\n",
    "        for root_node in tree.levels[tree_level].values():\n",
    "            add_nodes(root_node, parent_name=\"root\")\n",
    "\n",
    "    return df_all_trees"
   ]
  },
  {
   "cell_type": "markdown",
   "metadata": {},
   "source": [
    "#### build"
   ]
  },
  {
   "cell_type": "code",
   "execution_count": null,
   "metadata": {},
   "outputs": [],
   "source": [
    "df_hierarchical = build_hierarchical_dataframe(tree, 102, None)\n",
    "df_hierarchical.tail()"
   ]
  },
  {
   "cell_type": "markdown",
   "metadata": {},
   "source": [
    "### create figure"
   ]
  },
  {
   "cell_type": "markdown",
   "metadata": {},
   "source": [
    "#### setup"
   ]
  },
  {
   "cell_type": "code",
   "execution_count": null,
   "metadata": {},
   "outputs": [],
   "source": [
    "def format_text(row, keywords_per_row: int=5):\n",
    "    string = \"\"\n",
    "    if row.label is not None:\n",
    "        string += \"<b>Topic</b> \" + row.label + \"<br>\"\n",
    "    if row.description is not None:\n",
    "        string += \"<b>Description</b> \" + row.description + \"<br><br>\"\n",
    "\n",
    "    formatted_keywords = \"\"\n",
    "    for start in range(0, len(row.keywords), keywords_per_row):\n",
    "        end = start + keywords_per_row if start + keywords_per_row < len(row.keywords) else None\n",
    "        formatted_keywords += \", \".join(row.keywords[start:end]) + \"<br>\"\n",
    "    string += \"<b>Keywords</b> \" + formatted_keywords + \"<br>\"\n",
    "    \n",
    "    string += \"<b>Sentiment score</b> \" + str(round(row.color, 2))\n",
    "\n",
    "    return string"
   ]
  },
  {
   "cell_type": "markdown",
   "metadata": {},
   "source": [
    "#### create"
   ]
  },
  {
   "cell_type": "code",
   "execution_count": null,
   "metadata": {},
   "outputs": [],
   "source": [
    "fig = go.Figure()\n",
    "\n",
    "treemap = go.Treemap(\n",
    "    labels=df_hierarchical[\"id\"],\n",
    "    parents=df_hierarchical[\"parent\"],\n",
    "    values=df_hierarchical[\"value\"],\n",
    "    branchvalues=\"total\",\n",
    "    marker=dict(\n",
    "        colors=df_hierarchical[\"color\"],\n",
    "        colorscale=\"prgn\",\n",
    "        colorbar_title=\"Sentiment<br>score\",\n",
    "        cmid=0,\n",
    "        cmin=-1,\n",
    "        cmax=1,\n",
    "        showscale=True,\n",
    "    ),\n",
    "    hoverinfo=\"text\",\n",
    "    hovertext=df_hierarchical.apply(format_text, axis=1),\n",
    ")\n",
    "fig.add_trace(treemap)\n",
    "\n",
    "fig.update_layout(\n",
    "    font=dict(\n",
    "        family=\"Times New Roman\",\n",
    "        size=16,\n",
    "    ),\n",
    "    width=800,\n",
    "    height=800,\n",
    "    margin=dict(t=25, l=5, r=5, b=5),\n",
    ")\n",
    "\n",
    "# optionally, export as standalone HTML file\n",
    "# fig.write_html(\"treemap.html\")\n",
    "\n",
    "fig.show()"
   ]
  }
 ],
 "metadata": {
  "kernelspec": {
   "display_name": "Python 3 (ipykernel)",
   "language": "python",
   "name": "python3"
  },
  "language_info": {
   "codemirror_mode": {
    "name": "ipython",
    "version": 3
   },
   "file_extension": ".py",
   "mimetype": "text/x-python",
   "name": "python",
   "nbconvert_exporter": "python",
   "pygments_lexer": "ipython3",
   "version": "3.10.8"
  }
 },
 "nbformat": 4,
 "nbformat_minor": 4
}
